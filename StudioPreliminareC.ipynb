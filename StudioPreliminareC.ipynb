{
 "cells": [
  {
   "cell_type": "markdown",
   "metadata": {},
   "source": [
    "[Link repository del progetto 6] (https://github.com/FTocci/TGW2D)"
   ]
  },
  {
   "cell_type": "markdown",
   "metadata": {},
   "source": [
    "'''julia\n",
    "\n",
    "using ViewerGL\n",
    "GL = ViewerGL\n",
    "using LinearAlgebraicRepresentation\n",
    "Lar = LinearAlgebraicRepresentation\n",
    "\n",
    "include(\"C:/Users/Utente/Desktop/CPD/TGW2D/LinearAlgebraicRepresentation.jl-master/src/arrangement/planar_arrangement.jl\")\n",
    "\n",
    "V = [2 2; 1.5 2; 3 3.5; 1 3; 5 3; 1 2; 5 2]\n",
    "\n",
    "EV = SparseArrays.sparse(Array{Int8, 2}([\n",
    "               [1 1 0 0 0 0 0] #1->1,2\n",
    "               [0 1 1 0 0 0 0] #2->2,3\n",
    "               [1 0 1 0 0 0 0] #3->1,3\n",
    "               [0 0 0 1 1 0 0] #4->4,5\n",
    "               [0 0 0 0 0 1 1] #5->6,7\n",
    "           ]))\n",
    "\n",
    "sigma=spzeros(Int8, 0)\n",
    "\n",
    "return_edge_map=false\n",
    "\n",
    "multiproc=false\n",
    "\n",
    "W = convert(Lar.Points,V')\n",
    "\n",
    "V, copEV, copFE=planar_arrangement(V,EV,sigma,return_edge_map,multiproc)\n",
    "\n",
    "EV = Lar.cop2lar(copEV)\n",
    "\n",
    "FE = Lar.cop2lar(copFE)\n",
    "\n",
    "FV=EV\n",
    "\n",
    "FV = convert(Lar.Cells,FV)\n",
    "\n",
    "VV = [[k] for k=1:size(V,2)]\n",
    "\n",
    "model = (W, [VV,EV,FV])::Lar.LARmodel;\n",
    "\n",
    "meshes = GL.numbering(1.5)(model, GL.COLORS[1], 0.1);\n",
    "\n",
    "GL.VIEW(meshes);\n",
    "\n",
    "'''\n",
    "Le operazioni sopra prensentate sono state utilizzate per la realizzazione dei primi test.  L'obiettivo e' stato quello di verificare il corretto funzionamento dell'algoritmo e di individuare i moduli di interesse.  Con l'utilizzo di ViewerGL e' stato possibile visualizzare graficamente il piano partizionato individuato dai parametri scelti."
   ]
  }
 ],
 "metadata": {
  "kernelspec": {
   "display_name": "Julia 1.5.2",
   "language": "julia",
   "name": "julia-1.5"
  },
  "language_info": {
   "file_extension": ".jl",
   "mimetype": "application/julia",
   "name": "julia",
   "version": "1.5.4"
  }
 },
 "nbformat": 4,
 "nbformat_minor": 2
}
